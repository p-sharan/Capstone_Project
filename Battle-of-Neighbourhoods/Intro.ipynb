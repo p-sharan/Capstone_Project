{
 "cells": [
  {
   "cell_type": "markdown",
   "metadata": {
    "collapsed": true
   },
   "source": [
    "# Comparing Neighbourhood Venues"
   ]
  },
  {
   "cell_type": "markdown",
   "metadata": {},
   "source": [
    "### Introduction"
   ]
  },
  {
   "cell_type": "markdown",
   "metadata": {},
   "source": [
    "This project aims to compare different neighbourhood venues for different american neighbourhood by comparing different types of venues present in each area and the most common and trending ones.\n",
    "\n",
    "This kind of data may help people who wish to move or visit a particular city and people who wish to open a new shop. "
   ]
  },
  {
   "cell_type": "markdown",
   "metadata": {},
   "source": [
    "### Data"
   ]
  },
  {
   "cell_type": "markdown",
   "metadata": {},
   "source": [
    "The data used in this project is from three sources:\n",
    "\n",
    "1. Longitude and Latitude coordinates from geopy library in python:                https://geopy.readthedocs.io/en/stable/#data \n",
    "\n",
    "2. List of states, neighbourhoods in USA:\n",
    "  https://simplemaps.com/data/us-zips \n",
    "\n",
    "3. Foursquare API that provides location data for venues in a given neighbourhood: \n",
    "  https://developer.foursquare.com/ \n",
    "  "
   ]
  }
 ],
 "metadata": {
  "kernelspec": {
   "display_name": "Python 3",
   "language": "python",
   "name": "python3"
  },
  "language_info": {
   "codemirror_mode": {
    "name": "ipython",
    "version": 3
   },
   "file_extension": ".py",
   "mimetype": "text/x-python",
   "name": "python",
   "nbconvert_exporter": "python",
   "pygments_lexer": "ipython3",
   "version": "3.6.5"
  }
 },
 "nbformat": 4,
 "nbformat_minor": 1
}
